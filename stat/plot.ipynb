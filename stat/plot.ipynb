{
 "cells": [
  {
   "cell_type": "code",
   "execution_count": null,
   "metadata": {},
   "outputs": [
    {
     "ename": "",
     "evalue": "",
     "output_type": "error",
     "traceback": [
      "\u001b[1;31mRunning cells with 'Python 3.10.9 64-bit' requires ipykernel package.\n",
      "\u001b[1;31mRun the following command to install 'ipykernel' into the Python environment. \n",
      "\u001b[1;31mCommand: '/opt/local/bin/python3.10 -m pip install ipykernel -U --user --force-reinstall'"
     ]
    }
   ],
   "source": [
    "import numpy as np\n",
    "import matplotlib.pyplot as plt"
   ]
  },
  {
   "cell_type": "code",
   "execution_count": null,
   "metadata": {},
   "outputs": [
    {
     "ename": "",
     "evalue": "",
     "output_type": "error",
     "traceback": [
      "\u001b[1;31mRunning cells with 'Python 3.10.9 64-bit' requires ipykernel package.\n",
      "\u001b[1;31mRun the following command to install 'ipykernel' into the Python environment. \n",
      "\u001b[1;31mCommand: '/opt/local/bin/python3.10 -m pip install ipykernel -U --user --force-reinstall'"
     ]
    }
   ],
   "source": [
    "data = np.loadtxt(\"./memory_access_data.txt\")\n",
    "x = data[:,0]\n",
    "y = data[:,1]\n",
    "y = np.log2(y)\n",
    "z = data[:,2]\n",
    "\n",
    "fig = plt.figure()\n",
    "ax = fig.add_subplot(111, projection = \"3d\")\n",
    "ax.set_ylim(max(y), min(y))\n",
    "ax.set_xlabel(\"Stride (8 Bytes)\")\n",
    "ax.set_ylabel(\"log2(ArraySize) (Bytes)\")\n",
    "ax.set_zlabel(\"ThoughtPut (MB/s)\")\n",
    "ax.view_init(elev = 20, azim = -50)\n",
    "surf = ax.plot_trisurf(x, y, z, cmap = \"magma\")\n",
    "plt.show()"
   ]
  },
  {
   "cell_type": "code",
   "execution_count": null,
   "metadata": {},
   "outputs": [
    {
     "ename": "",
     "evalue": "",
     "output_type": "error",
     "traceback": [
      "\u001b[1;31mRunning cells with 'Python 3.10.9 64-bit' requires ipykernel package.\n",
      "\u001b[1;31mRun the following command to install 'ipykernel' into the Python environment. \n",
      "\u001b[1;31mCommand: '/opt/local/bin/python3.10 -m pip install ipykernel -U --user --force-reinstall'"
     ]
    }
   ],
   "source": [
    "fig, ax = plt.subplots()\n",
    "ax.set_xlabel(\"log2(ArraySize) (Bytes)\")\n",
    "ax.set_ylabel(\"Throughput (MB/s)\")\n",
    "groups = np.unique(data[:, 0])\n",
    "for group in groups:\n",
    "    group_data = data[data[:, 0] == group]\n",
    "    x = group_data[:, 1]\n",
    "    y = group_data[:, 2]\n",
    "    x = np.log2(x)\n",
    "    plt.plot(x, y, label = f'{int(group) * 8} Bytes Stride')\n",
    "plt.legend(loc = (1.05, -0.15))\n",
    "plt.show()\n",
    "\n",
    "fig2, ax2 = plt.subplots()\n",
    "ax2.set_xlabel(\"log2(ArraySize) (Bytes)\")\n",
    "ax2.set_ylabel(\"Latency (ns)\")\n",
    "groups = np.unique(data[:, 0])\n",
    "for group in groups:\n",
    "    group_data = data[data[:, 0] == group]\n",
    "    x = group_data[:, 1]\n",
    "    y = group_data[:, 2]\n",
    "    log_x = np.log2(x)\n",
    "    plt.plot(log_x, x / 8.0 / y, label = f'{int(group) * 8} Bytes Stride')\n",
    "plt.legend(loc = (1.05, -0.15))\n",
    "plt.show()"
   ]
  }
 ],
 "metadata": {
  "kernelspec": {
   "display_name": "Python 3.10.10 64-bit",
   "language": "python",
   "name": "python3"
  },
  "language_info": {
   "codemirror_mode": {
    "name": "ipython",
    "version": 3
   },
   "file_extension": ".py",
   "mimetype": "text/x-python",
   "name": "python",
   "nbconvert_exporter": "python",
   "pygments_lexer": "ipython3",
   "version": "3.10.10"
  },
  "orig_nbformat": 4,
  "vscode": {
   "interpreter": {
    "hash": "b0fa6594d8f4cbf19f97940f81e996739fb7646882a419484c72d19e05852a7e"
   }
  }
 },
 "nbformat": 4,
 "nbformat_minor": 2
}
